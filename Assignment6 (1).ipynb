{
  "nbformat": 4,
  "nbformat_minor": 0,
  "metadata": {
    "colab": {
      "provenance": []
    },
    "kernelspec": {
      "name": "python3",
      "display_name": "Python 3"
    },
    "language_info": {
      "name": "python"
    }
  },
  "cells": [
    {
      "cell_type": "markdown",
      "source": [
        "The import of pandas is done as pd, and then the functions/modules TransactionEncoder, apriori, and association_rules from mlxtend are imported. In association rule mining, these are used, especially with the Apriori algorithm."
      ],
      "metadata": {
        "id": "HR2mFl6OiJTZ"
      }
    },
    {
      "cell_type": "code",
      "execution_count": 14,
      "metadata": {
        "colab": {
          "base_uri": "https://localhost:8080/"
        },
        "id": "lkF907bjdaR6",
        "outputId": "7452c079-6f21-4520-ceeb-b857ba1ce5d4"
      },
      "outputs": [
        {
          "output_type": "stream",
          "name": "stderr",
          "text": [
            "/usr/local/lib/python3.10/dist-packages/ipykernel/ipkernel.py:283: DeprecationWarning: `should_run_async` will not call `transform_cell` automatically in the future. Please pass the result to `transformed_cell` argument and any exception that happen during thetransform in `preprocessing_exc_tuple` in IPython 7.17 and above.\n",
            "  and should_run_async(code)\n"
          ]
        }
      ],
      "source": [
        "import pandas as pd\n",
        "from mlxtend.preprocessing import TransactionEncoder\n",
        "from mlxtend.frequent_patterns import apriori\n",
        "from mlxtend.frequent_patterns import association_rules\n",
        "df = pd.read_csv('Online Retail.csv')\n",
        "transactions = df.groupby('InvoiceNo')['StockCode'].apply(list).tolist()\n"
      ]
    },
    {
      "cell_type": "markdown",
      "source": [
        "converts the transaction data into a binary encoded format by initializing a TransactionEncoder object from mlxtend. By representing each item as a boolean feature, this encoding converts the transaction data into a format that is appropriate for association rule mining algorithms."
      ],
      "metadata": {
        "id": "X66ZbbDfi1dP"
      }
    },
    {
      "cell_type": "code",
      "source": [
        "traEN = TransactionEncoder()\n",
        "tran_ary = traEN.fit(transactions).transform(transactions)\n",
        "df_encoded = pd.DataFrame(tran_ary, columns=traEN.columns_)\n"
      ],
      "metadata": {
        "colab": {
          "base_uri": "https://localhost:8080/"
        },
        "id": "bCMtJEwgfjXV",
        "outputId": "0b144344-a5b8-4f06-8577-b78d76168ec7"
      },
      "execution_count": 15,
      "outputs": [
        {
          "output_type": "stream",
          "name": "stderr",
          "text": [
            "/usr/local/lib/python3.10/dist-packages/ipykernel/ipkernel.py:283: DeprecationWarning: `should_run_async` will not call `transform_cell` automatically in the future. Please pass the result to `transformed_cell` argument and any exception that happen during thetransform in `preprocessing_exc_tuple` in IPython 7.17 and above.\n",
            "  and should_run_async(code)\n"
          ]
        }
      ]
    },
    {
      "cell_type": "code",
      "source": [
        "frequent_itemsets = apriori(df_encoded, min_support=0.02, use_colnames=True)\n"
      ],
      "metadata": {
        "colab": {
          "base_uri": "https://localhost:8080/"
        },
        "id": "jw7RRfipfnRF",
        "outputId": "6873e067-6b68-415d-8aa3-d23e7310a240"
      },
      "execution_count": 16,
      "outputs": [
        {
          "output_type": "stream",
          "name": "stderr",
          "text": [
            "/usr/local/lib/python3.10/dist-packages/ipykernel/ipkernel.py:283: DeprecationWarning: `should_run_async` will not call `transform_cell` automatically in the future. Please pass the result to `transformed_cell` argument and any exception that happen during thetransform in `preprocessing_exc_tuple` in IPython 7.17 and above.\n",
            "  and should_run_async(code)\n"
          ]
        }
      ]
    },
    {
      "cell_type": "markdown",
      "source": [
        "Generates association rules from the frequent itemsets found by Apriori. These rules have a minimum confidence level of 0.5 as specified by the min_threshold parameter."
      ],
      "metadata": {
        "id": "9s3NTUd6i_5U"
      }
    },
    {
      "cell_type": "code",
      "source": [
        "rules = association_rules(frequent_itemsets, metric=\"confidence\", min_threshold=0.5)\n"
      ],
      "metadata": {
        "colab": {
          "base_uri": "https://localhost:8080/"
        },
        "id": "jgkeIQsrfr6s",
        "outputId": "7243bb24-6cdf-4979-e0c4-32d98432fdfc"
      },
      "execution_count": 17,
      "outputs": [
        {
          "output_type": "stream",
          "name": "stderr",
          "text": [
            "/usr/local/lib/python3.10/dist-packages/ipykernel/ipkernel.py:283: DeprecationWarning: `should_run_async` will not call `transform_cell` automatically in the future. Please pass the result to `transformed_cell` argument and any exception that happen during thetransform in `preprocessing_exc_tuple` in IPython 7.17 and above.\n",
            "  and should_run_async(code)\n"
          ]
        }
      ]
    },
    {
      "cell_type": "markdown",
      "source": [
        "Sorts the generated association rules by confidence in descending order and selects the top 10 rules with the highest confidence using .head(10)."
      ],
      "metadata": {
        "id": "Kms3kNkzjIEQ"
      }
    },
    {
      "cell_type": "code",
      "source": [
        "top_10_rules = rules.sort_values(by='confidence', ascending=False).head(10)\n",
        "#Displays the top 10 association rules with the highest confidence.\n",
        "print(top_10_rules)\n",
        ""
      ],
      "metadata": {
        "colab": {
          "base_uri": "https://localhost:8080/"
        },
        "id": "TTFcobwzfwl5",
        "outputId": "990018e6-64b7-4eed-d331-64027860ce51"
      },
      "execution_count": 11,
      "outputs": [
        {
          "output_type": "stream",
          "name": "stdout",
          "text": [
            "       antecedents     consequents  antecedent support  consequent support  \\\n",
            "31  (22698, 22699)         (22697)            0.023707            0.040811   \n",
            "29  (22697, 22698)         (22699)            0.024865            0.043243   \n",
            "16         (22698)         (22697)            0.030965            0.040811   \n",
            "19         (22698)         (22699)            0.030965            0.043243   \n",
            "17         (22697)         (22699)            0.040811            0.043243   \n",
            "26         (23300)         (23301)            0.029537            0.035676   \n",
            "30  (22697, 22699)         (22698)            0.030270            0.030965   \n",
            "18         (22699)         (22697)            0.043243            0.040811   \n",
            "1          (22356)         (20724)            0.029344            0.040541   \n",
            "33         (22698)  (22697, 22699)            0.030965            0.030270   \n",
            "\n",
            "     support  confidence       lift  leverage  conviction  zhangs_metric  \n",
            "31  0.021197    0.894137  21.909313  0.020229    9.060649       0.977531  \n",
            "29  0.021197    0.852484  19.713703  0.020122    6.485804       0.973479  \n",
            "16  0.024865    0.802993  19.675976  0.023601    4.868796       0.979507  \n",
            "19  0.023707    0.765586  17.704177  0.022368    4.081484       0.973666  \n",
            "17  0.030270    0.741722  17.152318  0.028505    3.704366       0.981765  \n",
            "26  0.021197    0.717647  20.115865  0.020143    3.415315       0.979211  \n",
            "30  0.021197    0.700255  22.614223  0.020260    3.232865       0.985615  \n",
            "18  0.030270    0.700000  17.152318  0.028505    3.197297       0.984262  \n",
            "1   0.020309    0.692105  17.071930  0.019119    3.116193       0.969884  \n",
            "33  0.021197    0.684539  22.614223  0.020260    3.074005       0.986322  \n"
          ]
        },
        {
          "output_type": "stream",
          "name": "stderr",
          "text": [
            "/usr/local/lib/python3.10/dist-packages/ipykernel/ipkernel.py:283: DeprecationWarning: `should_run_async` will not call `transform_cell` automatically in the future. Please pass the result to `transformed_cell` argument and any exception that happen during thetransform in `preprocessing_exc_tuple` in IPython 7.17 and above.\n",
            "  and should_run_async(code)\n"
          ]
        }
      ]
    }
  ]
}